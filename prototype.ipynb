{
 "cells": [
  {
   "cell_type": "code",
   "execution_count": 1,
   "metadata": {},
   "outputs": [
    {
     "name": "stderr",
     "output_type": "stream",
     "text": [
      "/home/ilia/.venvs/py3/lib/python3.5/site-packages/ggplot/utils.py:81: FutureWarning: pandas.tslib is deprecated and will be removed in a future version.\n",
      "You can access Timestamp as pandas.Timestamp\n",
      "  pd.tslib.Timestamp,\n",
      "/home/ilia/.venvs/py3/lib/python3.5/site-packages/ggplot/stats/smoothers.py:4: FutureWarning: The pandas.lib module is deprecated and will be removed in a future version. These are private functions and can be accessed from pandas._libs.lib instead\n",
      "  from pandas.lib import Timestamp\n",
      "/home/ilia/.venvs/py3/lib/python3.5/site-packages/statsmodels/compat/pandas.py:56: FutureWarning: The pandas.core.datetools module is deprecated and will be removed in a future version. Please use the pandas.tseries module instead.\n",
      "  from pandas.core import datetools\n"
     ]
    }
   ],
   "source": [
    "%matplotlib inline\n",
    "\n",
    "from itertools import starmap, chain\n",
    "from collections import Counter\n",
    "\n",
    "import numpy as np\n",
    "import ggplot\n",
    "from fn import F\n",
    "\n",
    "from chempred.chemdner import read_abstracts, read_annotations, pair, annotate_abstract\n",
    "from chempred import preprocessing as pp"
   ]
  },
  {
   "cell_type": "code",
   "execution_count": 2,
   "metadata": {},
   "outputs": [
    {
     "name": "stdout",
     "output_type": "stream",
     "text": [
      "3500 2916\n"
     ]
    },
    {
     "data": {
      "text/plain": [
       "((22080034,\n",
       "  'Nanosilver effects on growth parameters in experimental aflatoxicosis in broiler chickens.',\n",
       "  'Aflatoxicosis is a cause of economic losses in broiler production. In this study, the effect of one commercial nanocompound, Nanocid (Nano Nasb Pars Co., Iran) was evaluated in reduction of aflatoxin effects on the growth and performance indices in broiler chickens suffering from experimental aflatoxicosis. For this, a total of 300 one-day-old broiler chicks (Ross strain) were randomly divided into 4 groups with 3 replicates of 15 chicks in each separated pen during the 28-day experiment. Treatment groups including group A: chickens fed basal diet, group B: chickens fed 3 ppm productive aflatoxin in basal diet, group C: chickens fed basal diet plus 2500 ppm Nanocid, and group D: chickens fed 3 ppm productive aflatoxin and 2500 ppm Nanocid, in basal diet. Data on body weight, body weight gain (BWG), feed intake, and feed conversion ratio (FCR) were recorded at weekly intervals. Also cumulative data were assessed. Results showed, although supplement of Nanocid to conventional diet had no effect on performance but addition of Nanocid to diet containing 3 ppm aflatoxin increased significantly the cumulative BWG, cumulative feed consumption and decreased FCR in the last 2 weeks of experimental period. The improvement in these performance indices by supplement of Nanocid to diet containing aflatoxin showed the ability of Nanocid to diminish the inhibitory effects of aflatoxin.'),\n",
       " (22080034,\n",
       "  [('A', 190, 199, 'aflatoxin', 'FAMILY'),\n",
       "   ('A', 594, 603, 'aflatoxin', 'FAMILY'),\n",
       "   ('A', 718, 727, 'aflatoxin', 'FAMILY'),\n",
       "   ('A', 1072, 1081, 'aflatoxin', 'FAMILY'),\n",
       "   ('A', 1305, 1314, 'aflatoxin', 'FAMILY'),\n",
       "   ('A', 1383, 1392, 'aflatoxin', 'FAMILY')]))"
      ]
     },
     "execution_count": 2,
     "metadata": {},
     "output_type": "execute_result"
    }
   ],
   "source": [
    "abstracts = read_abstracts(\"chemdner_corpus/training.abstracts.txt\")\n",
    "annotations = read_annotations(\"chemdner_corpus/training.annotations.txt\")\n",
    "print(len(abstracts), len(annotations))\n",
    "pairs = list(zip(abstracts, pair(abstracts, annotations)))\n",
    "pairs[1]"
   ]
  },
  {
   "cell_type": "code",
   "execution_count": 3,
   "metadata": {},
   "outputs": [
    {
     "data": {
      "text/plain": [
       "[('T', 0, 10, 'Nanosilver', 'OTHER'),\n",
       " ('T', 11, 18, 'effects', 'OTHER'),\n",
       " ('T', 19, 21, 'on', 'OTHER'),\n",
       " ('T', 22, 28, 'growth', 'OTHER'),\n",
       " ('T', 29, 39, 'parameters', 'OTHER'),\n",
       " ('T', 40, 42, 'in', 'OTHER'),\n",
       " ('T', 43, 55, 'experimental', 'OTHER'),\n",
       " ('T', 56, 69, 'aflatoxicosis', 'OTHER'),\n",
       " ('T', 70, 72, 'in', 'OTHER'),\n",
       " ('T', 73, 80, 'broiler', 'OTHER'),\n",
       " ('T', 81, 90, 'chickens.', 'OTHER'),\n",
       " ('A', 0, 13, 'Aflatoxicosis', 'OTHER'),\n",
       " ('A', 14, 16, 'is', 'OTHER'),\n",
       " ('A', 17, 18, 'a', 'OTHER'),\n",
       " ('A', 19, 24, 'cause', 'OTHER'),\n",
       " ('A', 25, 27, 'of', 'OTHER'),\n",
       " ('A', 28, 36, 'economic', 'OTHER'),\n",
       " ('A', 37, 43, 'losses', 'OTHER'),\n",
       " ('A', 44, 46, 'in', 'OTHER'),\n",
       " ('A', 47, 54, 'broiler', 'OTHER'),\n",
       " ('A', 55, 66, 'production.', 'OTHER'),\n",
       " ('A', 67, 69, 'In', 'OTHER'),\n",
       " ('A', 70, 74, 'this', 'OTHER'),\n",
       " ('A', 75, 81, 'study,', 'OTHER'),\n",
       " ('A', 82, 85, 'the', 'OTHER'),\n",
       " ('A', 86, 92, 'effect', 'OTHER'),\n",
       " ('A', 93, 95, 'of', 'OTHER'),\n",
       " ('A', 96, 99, 'one', 'OTHER'),\n",
       " ('A', 100, 110, 'commercial', 'OTHER'),\n",
       " ('A', 111, 124, 'nanocompound,', 'OTHER'),\n",
       " ('A', 125, 132, 'Nanocid', 'OTHER'),\n",
       " ('A', 133, 138, '(Nano', 'OTHER'),\n",
       " ('A', 139, 143, 'Nasb', 'OTHER'),\n",
       " ('A', 144, 148, 'Pars', 'OTHER'),\n",
       " ('A', 149, 153, 'Co.,', 'OTHER'),\n",
       " ('A', 154, 159, 'Iran)', 'OTHER'),\n",
       " ('A', 160, 163, 'was', 'OTHER'),\n",
       " ('A', 164, 173, 'evaluated', 'OTHER'),\n",
       " ('A', 174, 176, 'in', 'OTHER'),\n",
       " ('A', 177, 186, 'reduction', 'OTHER'),\n",
       " ('A', 187, 189, 'of', 'OTHER'),\n",
       " ('A', 190, 199, 'aflatoxin', 'FAMILY'),\n",
       " ('A', 200, 207, 'effects', 'OTHER'),\n",
       " ('A', 208, 210, 'on', 'OTHER'),\n",
       " ('A', 211, 214, 'the', 'OTHER'),\n",
       " ('A', 215, 221, 'growth', 'OTHER'),\n",
       " ('A', 222, 225, 'and', 'OTHER'),\n",
       " ('A', 226, 237, 'performance', 'OTHER'),\n",
       " ('A', 238, 245, 'indices', 'OTHER'),\n",
       " ('A', 246, 248, 'in', 'OTHER'),\n",
       " ('A', 249, 256, 'broiler', 'OTHER'),\n",
       " ('A', 257, 265, 'chickens', 'OTHER'),\n",
       " ('A', 266, 275, 'suffering', 'OTHER'),\n",
       " ('A', 276, 280, 'from', 'OTHER'),\n",
       " ('A', 281, 293, 'experimental', 'OTHER'),\n",
       " ('A', 294, 308, 'aflatoxicosis.', 'OTHER'),\n",
       " ('A', 309, 312, 'For', 'OTHER'),\n",
       " ('A', 313, 318, 'this,', 'OTHER'),\n",
       " ('A', 319, 320, 'a', 'OTHER'),\n",
       " ('A', 321, 326, 'total', 'OTHER'),\n",
       " ('A', 327, 329, 'of', 'OTHER'),\n",
       " ('A', 330, 333, '300', 'OTHER'),\n",
       " ('A', 334, 345, 'one-day-old', 'OTHER'),\n",
       " ('A', 346, 353, 'broiler', 'OTHER'),\n",
       " ('A', 354, 360, 'chicks', 'OTHER'),\n",
       " ('A', 361, 366, '(Ross', 'OTHER'),\n",
       " ('A', 367, 374, 'strain)', 'OTHER'),\n",
       " ('A', 375, 379, 'were', 'OTHER'),\n",
       " ('A', 380, 388, 'randomly', 'OTHER'),\n",
       " ('A', 389, 396, 'divided', 'OTHER'),\n",
       " ('A', 397, 401, 'into', 'OTHER'),\n",
       " ('A', 402, 403, '4', 'OTHER'),\n",
       " ('A', 404, 410, 'groups', 'OTHER'),\n",
       " ('A', 411, 415, 'with', 'OTHER'),\n",
       " ('A', 416, 417, '3', 'OTHER'),\n",
       " ('A', 418, 428, 'replicates', 'OTHER'),\n",
       " ('A', 429, 431, 'of', 'OTHER'),\n",
       " ('A', 432, 434, '15', 'OTHER'),\n",
       " ('A', 435, 441, 'chicks', 'OTHER'),\n",
       " ('A', 442, 444, 'in', 'OTHER'),\n",
       " ('A', 445, 449, 'each', 'OTHER'),\n",
       " ('A', 450, 459, 'separated', 'OTHER'),\n",
       " ('A', 460, 463, 'pen', 'OTHER'),\n",
       " ('A', 464, 470, 'during', 'OTHER'),\n",
       " ('A', 471, 474, 'the', 'OTHER'),\n",
       " ('A', 475, 481, '28-day', 'OTHER'),\n",
       " ('A', 482, 493, 'experiment.', 'OTHER'),\n",
       " ('A', 494, 503, 'Treatment', 'OTHER'),\n",
       " ('A', 504, 510, 'groups', 'OTHER'),\n",
       " ('A', 511, 520, 'including', 'OTHER'),\n",
       " ('A', 521, 526, 'group', 'OTHER'),\n",
       " ('A', 527, 529, 'A:', 'OTHER'),\n",
       " ('A', 530, 538, 'chickens', 'OTHER'),\n",
       " ('A', 539, 542, 'fed', 'OTHER'),\n",
       " ('A', 543, 548, 'basal', 'OTHER'),\n",
       " ('A', 549, 554, 'diet,', 'OTHER'),\n",
       " ('A', 555, 560, 'group', 'OTHER'),\n",
       " ('A', 561, 563, 'B:', 'OTHER'),\n",
       " ('A', 564, 572, 'chickens', 'OTHER'),\n",
       " ('A', 573, 576, 'fed', 'OTHER'),\n",
       " ('A', 577, 578, '3', 'OTHER'),\n",
       " ('A', 579, 582, 'ppm', 'OTHER'),\n",
       " ('A', 583, 593, 'productive', 'OTHER'),\n",
       " ('A', 594, 603, 'aflatoxin', 'FAMILY'),\n",
       " ('A', 604, 606, 'in', 'OTHER'),\n",
       " ('A', 607, 612, 'basal', 'OTHER'),\n",
       " ('A', 613, 618, 'diet,', 'OTHER'),\n",
       " ('A', 619, 624, 'group', 'OTHER'),\n",
       " ('A', 625, 627, 'C:', 'OTHER'),\n",
       " ('A', 628, 636, 'chickens', 'OTHER'),\n",
       " ('A', 637, 640, 'fed', 'OTHER'),\n",
       " ('A', 641, 646, 'basal', 'OTHER'),\n",
       " ('A', 647, 651, 'diet', 'OTHER'),\n",
       " ('A', 652, 656, 'plus', 'OTHER'),\n",
       " ('A', 657, 661, '2500', 'OTHER'),\n",
       " ('A', 662, 665, 'ppm', 'OTHER'),\n",
       " ('A', 666, 674, 'Nanocid,', 'OTHER'),\n",
       " ('A', 675, 678, 'and', 'OTHER'),\n",
       " ('A', 679, 684, 'group', 'OTHER'),\n",
       " ('A', 685, 687, 'D:', 'OTHER'),\n",
       " ('A', 688, 696, 'chickens', 'OTHER'),\n",
       " ('A', 697, 700, 'fed', 'OTHER'),\n",
       " ('A', 701, 702, '3', 'OTHER'),\n",
       " ('A', 703, 706, 'ppm', 'OTHER'),\n",
       " ('A', 707, 717, 'productive', 'OTHER'),\n",
       " ('A', 718, 727, 'aflatoxin', 'FAMILY'),\n",
       " ('A', 728, 731, 'and', 'OTHER'),\n",
       " ('A', 732, 736, '2500', 'OTHER'),\n",
       " ('A', 737, 740, 'ppm', 'OTHER'),\n",
       " ('A', 741, 749, 'Nanocid,', 'OTHER'),\n",
       " ('A', 750, 752, 'in', 'OTHER'),\n",
       " ('A', 753, 758, 'basal', 'OTHER'),\n",
       " ('A', 759, 764, 'diet.', 'OTHER'),\n",
       " ('A', 765, 769, 'Data', 'OTHER'),\n",
       " ('A', 770, 772, 'on', 'OTHER'),\n",
       " ('A', 773, 777, 'body', 'OTHER'),\n",
       " ('A', 778, 785, 'weight,', 'OTHER'),\n",
       " ('A', 786, 790, 'body', 'OTHER'),\n",
       " ('A', 791, 797, 'weight', 'OTHER'),\n",
       " ('A', 798, 802, 'gain', 'OTHER'),\n",
       " ('A', 803, 809, '(BWG),', 'OTHER'),\n",
       " ('A', 810, 814, 'feed', 'OTHER'),\n",
       " ('A', 815, 822, 'intake,', 'OTHER'),\n",
       " ('A', 823, 826, 'and', 'OTHER'),\n",
       " ('A', 827, 831, 'feed', 'OTHER'),\n",
       " ('A', 832, 842, 'conversion', 'OTHER'),\n",
       " ('A', 843, 848, 'ratio', 'OTHER'),\n",
       " ('A', 849, 854, '(FCR)', 'OTHER'),\n",
       " ('A', 855, 859, 'were', 'OTHER'),\n",
       " ('A', 860, 868, 'recorded', 'OTHER'),\n",
       " ('A', 869, 871, 'at', 'OTHER'),\n",
       " ('A', 872, 878, 'weekly', 'OTHER'),\n",
       " ('A', 879, 889, 'intervals.', 'OTHER'),\n",
       " ('A', 890, 894, 'Also', 'OTHER'),\n",
       " ('A', 895, 905, 'cumulative', 'OTHER'),\n",
       " ('A', 906, 910, 'data', 'OTHER'),\n",
       " ('A', 911, 915, 'were', 'OTHER'),\n",
       " ('A', 916, 925, 'assessed.', 'OTHER'),\n",
       " ('A', 926, 933, 'Results', 'OTHER'),\n",
       " ('A', 934, 941, 'showed,', 'OTHER'),\n",
       " ('A', 942, 950, 'although', 'OTHER'),\n",
       " ('A', 951, 961, 'supplement', 'OTHER'),\n",
       " ('A', 962, 964, 'of', 'OTHER'),\n",
       " ('A', 965, 972, 'Nanocid', 'OTHER'),\n",
       " ('A', 973, 975, 'to', 'OTHER'),\n",
       " ('A', 976, 988, 'conventional', 'OTHER'),\n",
       " ('A', 989, 993, 'diet', 'OTHER'),\n",
       " ('A', 994, 997, 'had', 'OTHER'),\n",
       " ('A', 998, 1000, 'no', 'OTHER'),\n",
       " ('A', 1001, 1007, 'effect', 'OTHER'),\n",
       " ('A', 1008, 1010, 'on', 'OTHER'),\n",
       " ('A', 1011, 1022, 'performance', 'OTHER'),\n",
       " ('A', 1023, 1026, 'but', 'OTHER'),\n",
       " ('A', 1027, 1035, 'addition', 'OTHER'),\n",
       " ('A', 1036, 1038, 'of', 'OTHER'),\n",
       " ('A', 1039, 1046, 'Nanocid', 'OTHER'),\n",
       " ('A', 1047, 1049, 'to', 'OTHER'),\n",
       " ('A', 1050, 1054, 'diet', 'OTHER'),\n",
       " ('A', 1055, 1065, 'containing', 'OTHER'),\n",
       " ('A', 1066, 1067, '3', 'OTHER'),\n",
       " ('A', 1068, 1071, 'ppm', 'OTHER'),\n",
       " ('A', 1072, 1081, 'aflatoxin', 'FAMILY'),\n",
       " ('A', 1082, 1091, 'increased', 'OTHER'),\n",
       " ('A', 1092, 1105, 'significantly', 'OTHER'),\n",
       " ('A', 1106, 1109, 'the', 'OTHER'),\n",
       " ('A', 1110, 1120, 'cumulative', 'OTHER'),\n",
       " ('A', 1121, 1125, 'BWG,', 'OTHER'),\n",
       " ('A', 1126, 1136, 'cumulative', 'OTHER'),\n",
       " ('A', 1137, 1141, 'feed', 'OTHER'),\n",
       " ('A', 1142, 1153, 'consumption', 'OTHER'),\n",
       " ('A', 1154, 1157, 'and', 'OTHER'),\n",
       " ('A', 1158, 1167, 'decreased', 'OTHER'),\n",
       " ('A', 1168, 1171, 'FCR', 'OTHER'),\n",
       " ('A', 1172, 1174, 'in', 'OTHER'),\n",
       " ('A', 1175, 1178, 'the', 'OTHER'),\n",
       " ('A', 1179, 1183, 'last', 'OTHER'),\n",
       " ('A', 1184, 1185, '2', 'OTHER'),\n",
       " ('A', 1186, 1191, 'weeks', 'OTHER'),\n",
       " ('A', 1192, 1194, 'of', 'OTHER'),\n",
       " ('A', 1195, 1207, 'experimental', 'OTHER'),\n",
       " ('A', 1208, 1215, 'period.', 'OTHER'),\n",
       " ('A', 1216, 1219, 'The', 'OTHER'),\n",
       " ('A', 1220, 1231, 'improvement', 'OTHER'),\n",
       " ('A', 1232, 1234, 'in', 'OTHER'),\n",
       " ('A', 1235, 1240, 'these', 'OTHER'),\n",
       " ('A', 1241, 1252, 'performance', 'OTHER'),\n",
       " ('A', 1253, 1260, 'indices', 'OTHER'),\n",
       " ('A', 1261, 1263, 'by', 'OTHER'),\n",
       " ('A', 1264, 1274, 'supplement', 'OTHER'),\n",
       " ('A', 1275, 1277, 'of', 'OTHER'),\n",
       " ('A', 1278, 1285, 'Nanocid', 'OTHER'),\n",
       " ('A', 1286, 1288, 'to', 'OTHER'),\n",
       " ('A', 1289, 1293, 'diet', 'OTHER'),\n",
       " ('A', 1294, 1304, 'containing', 'OTHER'),\n",
       " ('A', 1305, 1314, 'aflatoxin', 'FAMILY'),\n",
       " ('A', 1315, 1321, 'showed', 'OTHER'),\n",
       " ('A', 1322, 1325, 'the', 'OTHER'),\n",
       " ('A', 1326, 1333, 'ability', 'OTHER'),\n",
       " ('A', 1334, 1336, 'of', 'OTHER'),\n",
       " ('A', 1337, 1344, 'Nanocid', 'OTHER'),\n",
       " ('A', 1345, 1347, 'to', 'OTHER'),\n",
       " ('A', 1348, 1356, 'diminish', 'OTHER'),\n",
       " ('A', 1357, 1360, 'the', 'OTHER'),\n",
       " ('A', 1361, 1371, 'inhibitory', 'OTHER'),\n",
       " ('A', 1372, 1379, 'effects', 'OTHER'),\n",
       " ('A', 1380, 1382, 'of', 'OTHER'),\n",
       " ('A', 1383, 1392, 'aflatoxin', 'FAMILY'),\n",
       " ('A', 1392, 1393, '.', 'OTHER')]"
      ]
     },
     "execution_count": 3,
     "metadata": {},
     "output_type": "execute_result"
    }
   ],
   "source": [
    "annotated_abstracts = list(starmap(F(annotate_abstract, guided=True), pairs))\n",
    "annotated_abstracts[1]"
   ]
  },
  {
   "cell_type": "code",
   "execution_count": 4,
   "metadata": {},
   "outputs": [
    {
     "data": {
      "text/plain": [
       "Counter({'ABBREVIATION': 4538,\n",
       "         'FAMILY': 4090,\n",
       "         'FORMULA': 4448,\n",
       "         'IDENTIFIER': 672,\n",
       "         'MULTIPLE': 202,\n",
       "         'NO CLASS': 40,\n",
       "         'SYSTEMATIC': 6656,\n",
       "         'TRIVIAL': 8832})"
      ]
     },
     "execution_count": 4,
     "metadata": {},
     "output_type": "execute_result"
    }
   ],
   "source": [
    "positive_classes = Counter(r[-1] for r in chain.from_iterable(anno for _, anno in annotations))\n",
    "positive_classes"
   ]
  },
  {
   "cell_type": "code",
   "execution_count": 5,
   "metadata": {
    "scrolled": true
   },
   "outputs": [],
   "source": [
    "raw_samples, raw_classes = pp.generate_training_samples(\n",
    "    annotated_abstracts, positive_classes, 5, False)\n",
    "padded_samples, padded_classes, masks = pp.pad(*pp.join_tokens_in_samples(raw_samples, raw_classes))\n",
    "one_hot_samples, one_hot_classes = map(pp.encode_one_hot, [padded_samples, padded_classes])\n",
    "masked_samples = pp.mask_array(one_hot_samples, masks)\n",
    "masked_classes = pp.mask_array(one_hot_classes, masks)\n",
    "class_counts = np.vstack([np.unique(cls, return_counts=True)[1] for cls in \n",
    "                          (padded_cls[mask] for padded_cls, mask in zip(padded_classes, masks))])"
   ]
  },
  {
   "cell_type": "code",
   "execution_count": 8,
   "metadata": {},
   "outputs": [
    {
     "data": {
      "text/plain": [
       "array([[34, 11],\n",
       "       [36, 11],\n",
       "       [33, 11],\n",
       "       [29, 11],\n",
       "       [29, 11],\n",
       "       [26,  9],\n",
       "       [24,  9],\n",
       "       [24,  9],\n",
       "       [18,  9],\n",
       "       [22,  9]])"
      ]
     },
     "execution_count": 8,
     "metadata": {},
     "output_type": "execute_result"
    }
   ],
   "source": [
    "class_counts[:10]"
   ]
  },
  {
   "cell_type": "code",
   "execution_count": 9,
   "metadata": {},
   "outputs": [
    {
     "data": {
      "text/plain": [
       "(143616, 299, 240)"
      ]
     },
     "execution_count": 9,
     "metadata": {},
     "output_type": "execute_result"
    }
   ],
   "source": [
    "masked_samples.shape"
   ]
  },
  {
   "cell_type": "code",
   "execution_count": 11,
   "metadata": {},
   "outputs": [
    {
     "name": "stderr",
     "output_type": "stream",
     "text": [
      "Using TensorFlow backend.\n"
     ]
    }
   ],
   "source": [
    "from keras import backend as k\n",
    "from keras import losses\n",
    "from keras import models\n",
    "from keras import layers"
   ]
  },
  {
   "cell_type": "code",
   "execution_count": null,
   "metadata": {},
   "outputs": [
    {
     "name": "stdout",
     "output_type": "stream",
     "text": [
      "Train on 129254 samples, validate on 14362 samples\n",
      "Epoch 1/50\n",
      "  2400/129254 [..............................] - ETA: 2769s - loss: 0.6356 - acc: 0.6464"
     ]
    }
   ],
   "source": [
    "n_steps = 200\n",
    "maxlen = masked_samples.shape[1]\n",
    "nchar = masked_samples.shape[2]\n",
    "n_cls = 2\n",
    "\n",
    "l_in = layers.Input(shape=(maxlen, nchar), name=\"l_in\")\n",
    "l_mask = layers.Masking(mask_value=0, name=\"l_mask\")(l_in)\n",
    "l_rec1 = layers.Bidirectional(layers.LSTM(n_steps, return_sequences=True, name=\"l_rec1\"))(l_mask)\n",
    "l_rec2 = layers.Bidirectional(layers.LSTM(n_steps, return_sequences=True, name=\"l_rec2\"))(l_rec1)\n",
    "l_out = layers.TimeDistributed(\n",
    "    layers.Dense(n_cls, activation='softmax'), name=\"l_out\")(l_rec2)\n",
    "net2 = models.Model(l_in, l_out)\n",
    "net2.compile(optimizer='Adam', loss=\"binary_crossentropy\", metrics = ['accuracy'])\n",
    "net2.fit(masked_samples, masked_classes, batch_size=200, epochs=50, verbose=1, validation_split=0.1)"
   ]
  },
  {
   "cell_type": "code",
   "execution_count": null,
   "metadata": {
    "collapsed": true
   },
   "outputs": [],
   "source": []
  },
  {
   "cell_type": "code",
   "execution_count": 43,
   "metadata": {},
   "outputs": [
    {
     "name": "stdout",
     "output_type": "stream",
     "text": [
      "[[0 0 1 1 1 1 0 0 0 1 0 0 0 0 0 0 0 0 0 0 0 0 0 0 0 0 0 0 0 0]]\n",
      "[[0 0 1 1 1 1 0 0 0 1 1 1 1 1 1 1 1 1 1 1 1 1 1 1 1 1 1 1 1 1]]\n"
     ]
    }
   ],
   "source": [
    "print(test2_x_encoded[:1].argmin(axis=2))\n",
    "print(net2.predict(test2_x_encoded[:1]).argmax(axis=2))"
   ]
  },
  {
   "cell_type": "code",
   "execution_count": null,
   "metadata": {
    "collapsed": true
   },
   "outputs": [],
   "source": []
  },
  {
   "cell_type": "code",
   "execution_count": null,
   "metadata": {
    "collapsed": true
   },
   "outputs": [],
   "source": []
  }
 ],
 "metadata": {
  "kernelspec": {
   "display_name": "Python 3",
   "language": "python",
   "name": "python3"
  },
  "language_info": {
   "codemirror_mode": {
    "name": "ipython",
    "version": 3
   },
   "file_extension": ".py",
   "mimetype": "text/x-python",
   "name": "python",
   "nbconvert_exporter": "python",
   "pygments_lexer": "ipython3",
   "version": "3.5.3"
  }
 },
 "nbformat": 4,
 "nbformat_minor": 1
}
